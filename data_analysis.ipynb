{
 "cells": [
  {
   "cell_type": "markdown",
   "metadata": {},
   "source": [
    "# Japan Life Expectancy"
   ]
  },
  {
   "cell_type": "code",
   "execution_count": 2,
   "metadata": {},
   "outputs": [],
   "source": [
    "import pandas as pd"
   ]
  },
  {
   "cell_type": "code",
   "execution_count": 5,
   "metadata": {},
   "outputs": [],
   "source": [
    "# path to the .csv file \n",
    "data = \"Japan_life_expectancy.csv\"\n",
    "\n",
    "# read the .csv file and create a dataframe\n",
    "df = pd.read_csv(data)"
   ]
  },
  {
   "cell_type": "code",
   "execution_count": 8,
   "metadata": {},
   "outputs": [
    {
     "name": "stdout",
     "output_type": "stream",
     "text": [
      "Prefecture\n",
      "Life_expectancy\n",
      "Physician\n",
      "Junior_col\n",
      "University\n",
      "Public_Hosp\n",
      "Pshic_hosp\n",
      "Beds_psic\n",
      "Nurses\n",
      "Avg_hours\n",
      "Salary\n",
      "Elementary_school\n",
      "Sport_fac\n",
      "Park\n",
      "Forest\n",
      "Income_per capita\n",
      "Density_pop\n",
      "Hospitals\n",
      "Beds\n",
      "Ambulances\n",
      "Health_exp\n",
      "Educ_exp\n",
      "Welfare_exp\n"
     ]
    }
   ],
   "source": [
    "for column in df.columns:\n",
    "    print(column)"
   ]
  }
 ],
 "metadata": {
  "kernelspec": {
   "display_name": "Python 3",
   "language": "python",
   "name": "python3"
  },
  "language_info": {
   "codemirror_mode": {
    "name": "ipython",
    "version": 3
   },
   "file_extension": ".py",
   "mimetype": "text/x-python",
   "name": "python",
   "nbconvert_exporter": "python",
   "pygments_lexer": "ipython3",
   "version": "3.10.2"
  }
 },
 "nbformat": 4,
 "nbformat_minor": 2
}
